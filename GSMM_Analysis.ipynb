{
 "cells": [
  {
   "cell_type": "markdown",
   "metadata": {},
   "source": [
    "Computational Assignment 2 Part 1 GWMMs"
   ]
  },
  {
   "cell_type": "code",
   "execution_count": null,
   "metadata": {},
   "outputs": [
    {
     "name": "stdout",
     "output_type": "stream",
     "text": [
      "c:\\Program Files\\Microsoft VS Code\n"
     ]
    }
   ],
   "source": [
    "import os\n",
    "print(os.getcwd())  # Printing working directory\n"
   ]
  },
  {
   "cell_type": "markdown",
   "metadata": {},
   "source": [
    "Creating a custom simplified GWMM"
   ]
  },
  {
   "cell_type": "markdown",
   "metadata": {},
   "source": [
    "EXERCISE 2: \n",
    "Q1"
   ]
  },
  {
   "cell_type": "markdown",
   "metadata": {},
   "source": [
    "PART2\n",
    "E. coli core model"
   ]
  },
  {
   "cell_type": "markdown",
   "metadata": {},
   "source": [
    "Loading model"
   ]
  },
  {
   "cell_type": "code",
   "execution_count": null,
   "metadata": {},
   "outputs": [],
   "source": [
    "import cobra\n",
    "from cobra.io import read_sbml_model\n",
    "\n",
    "# Loading the provided model\n",
    "model_path = r\"\\\\mfs03\\user07\\HLSRICE\\Documents\\Computational\\EXAM2\\PART_1\\e_coli_core_LIFE752.xml\"\n",
    "model = read_sbml_model(model_path)\n"
   ]
  },
  {
   "cell_type": "markdown",
   "metadata": {},
   "source": [
    "STats for q1"
   ]
  },
  {
   "cell_type": "code",
   "execution_count": null,
   "metadata": {},
   "outputs": [
    {
     "name": "stdout",
     "output_type": "stream",
     "text": [
      "Q1a. Number of Reactions: 95\n",
      "Q1b. Number of Genes: 137\n",
      "Q1c. Number of Metabolites: 72\n"
     ]
    }
   ],
   "source": [
    "# Q1a - number of reactions\n",
    "num_reactions = len(model.reactions)\n",
    "\n",
    "# Q1b - number of genes\n",
    "num_genes = len(model.genes)\n",
    "\n",
    "# Q1c - number of metabolites\n",
    "num_metabolites = len(model.metabolites)\n",
    "\n",
    "\n",
    "# Printing the stats\n",
    "print(f\"Q1a. Number of Reactions: {num_reactions}\")\n",
    "print(f\"Q1b. Number of Genes: {num_genes}\")\n",
    "print(f\"Q1c. Number of Metabolites: {num_metabolites}\")\n"
   ]
  },
  {
   "cell_type": "markdown",
   "metadata": {},
   "source": [
    "Q2"
   ]
  },
  {
   "cell_type": "markdown",
   "metadata": {},
   "source": []
  },
  {
   "cell_type": "code",
   "execution_count": null,
   "metadata": {},
   "outputs": [
    {
     "data": {
      "text/html": [
       "\n",
       "        <table>\n",
       "            <tr>\n",
       "                <td><strong>Name</strong></td>\n",
       "                <td>e_coli_core</td>\n",
       "            </tr><tr>\n",
       "                <td><strong>Memory address</strong></td>\n",
       "                <td>21b20380620</td>\n",
       "            </tr><tr>\n",
       "                <td><strong>Number of metabolites</strong></td>\n",
       "                <td>72</td>\n",
       "            </tr><tr>\n",
       "                <td><strong>Number of reactions</strong></td>\n",
       "                <td>95</td>\n",
       "            </tr><tr>\n",
       "                <td><strong>Number of genes</strong></td>\n",
       "                <td>137</td>\n",
       "            </tr><tr>\n",
       "                <td><strong>Number of groups</strong></td>\n",
       "                <td>0</td>\n",
       "            </tr><tr>\n",
       "                <td><strong>Objective expression</strong></td>\n",
       "                <td>1.0*BIOMASS_Ecoli_core_w_GAM - 1.0*BIOMASS_Ecoli_core_w_GAM_reverse_712e5</td>\n",
       "            </tr><tr>\n",
       "                <td><strong>Compartments</strong></td>\n",
       "                <td>extracellular space, cytosol</td>\n",
       "            </tr>\n",
       "          </table>"
      ],
      "text/plain": [
       "<Model e_coli_core at 0x21b20380620>"
      ]
     },
     "execution_count": 5,
     "metadata": {},
     "output_type": "execute_result"
    }
   ],
   "source": [
    "# Loading the model\n",
    "model_path = r\"\\\\mfs03\\user07\\HLSRICE\\Documents\\Computational\\EXAM2\\PART_1\\e_coli_core_LIFE752.xml\"\n",
    "model = read_sbml_model(model_path)\n",
    "model"
   ]
  },
  {
   "cell_type": "markdown",
   "metadata": {},
   "source": [
    "Finding all allowed nutrient uptake"
   ]
  },
  {
   "cell_type": "code",
   "execution_count": null,
   "metadata": {},
   "outputs": [
    {
     "name": "stdout",
     "output_type": "stream",
     "text": [
      "Exchange Reactions and their Bounds:\n",
      "\n",
      "EX_ac_e - ac_e -->  [0.0, 1000.0]\n",
      "EX_acald_e - acald_e -->  [0.0, 1000.0]\n",
      "EX_akg_e - akg_e -->  [0.0, 1000.0]\n",
      "EX_co2_e - co2_e <=>  [-1000.0, 1000.0]\n",
      "EX_etoh_e - etoh_e -->  [0.0, 1000.0]\n",
      "EX_for_e - for_e -->  [0.0, 1000.0]\n",
      "EX_fru_e - fru_e -->  [0.0, 1000.0]\n",
      "EX_fum_e - fum_e -->  [0.0, 1000.0]\n",
      "EX_glc__D_e - glc__D_e <=>  [-7.0, 1000.0]\n",
      "EX_gln__L_e - gln__L_e -->  [0.0, 1000.0]\n",
      "EX_glu__L_e - glu__L_e <=>  [-7.0, 1000.0]\n",
      "EX_h_e - h_e <=>  [-1000.0, 1000.0]\n",
      "EX_h2o_e - h2o_e <=>  [-1000.0, 1000.0]\n",
      "EX_lac__D_e - lac__D_e -->  [0.0, 1000.0]\n",
      "EX_mal__L_e - mal__L_e -->  [0.0, 1000.0]\n",
      "EX_nh4_e - nh4_e <=>  [-1000.0, 1000.0]\n",
      "EX_o2_e - o2_e <=>  [-1000.0, 1000.0]\n",
      "EX_pi_e - pi_e <=>  [-1000.0, 1000.0]\n",
      "EX_pyr_e - pyr_e -->  [0.0, 1000.0]\n",
      "EX_succ_e - succ_e -->  [0.0, 1000.0]\n",
      "\n",
      "Allowed Nutrient Uptake (Workshop Style):\n",
      "['EX_co2_e', 'EX_glc__D_e', 'EX_glu__L_e', 'EX_h_e', 'EX_h2o_e', 'EX_nh4_e', 'EX_o2_e', 'EX_pi_e']\n"
     ]
    }
   ],
   "source": [
    "\n",
    "# Displaying all exchange reactions with bounds\n",
    "print(\"Exchange Reactions and their Bounds:\\n\")\n",
    "for exchange in model.exchanges: # Looping through reactions and extracting upper and lower bounds\n",
    "    print(f\"{exchange.id} - {exchange.reaction} [{exchange.lower_bound}, {exchange.upper_bound}]\")\n",
    "\n",
    "# Identifying the  allowed nutrient uptake (negative lower bound)\n",
    "allowed_uptake = [\n",
    "    rxn.id for rxn in model.exchanges if rxn.lower_bound < 0\n",
    "]\n",
    " # Printing allowed nutrients\n",
    "print(\"\\nAllowed Nutrient Uptake (Workshop Style):\")\n",
    "print(allowed_uptake)"
   ]
  },
  {
   "cell_type": "markdown",
   "metadata": {},
   "source": [
    "Making a table"
   ]
  },
  {
   "cell_type": "markdown",
   "metadata": {},
   "source": [
    "Making a table for easier presentation"
   ]
  },
  {
   "cell_type": "code",
   "execution_count": null,
   "metadata": {},
   "outputs": [
    {
     "data": {
      "text/html": [
       "<style type=\"text/css\">\n",
       "</style>\n",
       "<table id=\"T_4a0f7\">\n",
       "  <caption>Table 1: Allowed Nutrient Uptake in the Model</caption>\n",
       "  <thead>\n",
       "    <tr>\n",
       "      <th class=\"blank level0\" >&nbsp;</th>\n",
       "      <th id=\"T_4a0f7_level0_col0\" class=\"col_heading level0 col0\" >Exchange Reaction</th>\n",
       "      <th id=\"T_4a0f7_level0_col1\" class=\"col_heading level0 col1\" >Metabolite (External)</th>\n",
       "      <th id=\"T_4a0f7_level0_col2\" class=\"col_heading level0 col2\" >Lower Bound (Uptake)</th>\n",
       "      <th id=\"T_4a0f7_level0_col3\" class=\"col_heading level0 col3\" >Upper Bound</th>\n",
       "    </tr>\n",
       "  </thead>\n",
       "  <tbody>\n",
       "    <tr>\n",
       "      <th id=\"T_4a0f7_level0_row0\" class=\"row_heading level0 row0\" >0</th>\n",
       "      <td id=\"T_4a0f7_row0_col0\" class=\"data row0 col0\" >EX_co2_e</td>\n",
       "      <td id=\"T_4a0f7_row0_col1\" class=\"data row0 col1\" >Carbon Dioxide (co2_e)</td>\n",
       "      <td id=\"T_4a0f7_row0_col2\" class=\"data row0 col2\" >-1000.000000</td>\n",
       "      <td id=\"T_4a0f7_row0_col3\" class=\"data row0 col3\" >1000.000000</td>\n",
       "    </tr>\n",
       "    <tr>\n",
       "      <th id=\"T_4a0f7_level0_row1\" class=\"row_heading level0 row1\" >1</th>\n",
       "      <td id=\"T_4a0f7_row1_col0\" class=\"data row1 col0\" >EX_glc__D_e</td>\n",
       "      <td id=\"T_4a0f7_row1_col1\" class=\"data row1 col1\" >Glucose (glc__D_e)</td>\n",
       "      <td id=\"T_4a0f7_row1_col2\" class=\"data row1 col2\" >-7.000000</td>\n",
       "      <td id=\"T_4a0f7_row1_col3\" class=\"data row1 col3\" >1000.000000</td>\n",
       "    </tr>\n",
       "    <tr>\n",
       "      <th id=\"T_4a0f7_level0_row2\" class=\"row_heading level0 row2\" >2</th>\n",
       "      <td id=\"T_4a0f7_row2_col0\" class=\"data row2 col0\" >EX_glu__L_e</td>\n",
       "      <td id=\"T_4a0f7_row2_col1\" class=\"data row2 col1\" >Glutamate (glu__L_e)</td>\n",
       "      <td id=\"T_4a0f7_row2_col2\" class=\"data row2 col2\" >-7.000000</td>\n",
       "      <td id=\"T_4a0f7_row2_col3\" class=\"data row2 col3\" >1000.000000</td>\n",
       "    </tr>\n",
       "    <tr>\n",
       "      <th id=\"T_4a0f7_level0_row3\" class=\"row_heading level0 row3\" >3</th>\n",
       "      <td id=\"T_4a0f7_row3_col0\" class=\"data row3 col0\" >EX_h_e</td>\n",
       "      <td id=\"T_4a0f7_row3_col1\" class=\"data row3 col1\" >Hydrogen (h_e)</td>\n",
       "      <td id=\"T_4a0f7_row3_col2\" class=\"data row3 col2\" >-1000.000000</td>\n",
       "      <td id=\"T_4a0f7_row3_col3\" class=\"data row3 col3\" >1000.000000</td>\n",
       "    </tr>\n",
       "    <tr>\n",
       "      <th id=\"T_4a0f7_level0_row4\" class=\"row_heading level0 row4\" >4</th>\n",
       "      <td id=\"T_4a0f7_row4_col0\" class=\"data row4 col0\" >EX_h2o_e</td>\n",
       "      <td id=\"T_4a0f7_row4_col1\" class=\"data row4 col1\" >Water (h2o_e)</td>\n",
       "      <td id=\"T_4a0f7_row4_col2\" class=\"data row4 col2\" >-1000.000000</td>\n",
       "      <td id=\"T_4a0f7_row4_col3\" class=\"data row4 col3\" >1000.000000</td>\n",
       "    </tr>\n",
       "    <tr>\n",
       "      <th id=\"T_4a0f7_level0_row5\" class=\"row_heading level0 row5\" >5</th>\n",
       "      <td id=\"T_4a0f7_row5_col0\" class=\"data row5 col0\" >EX_nh4_e</td>\n",
       "      <td id=\"T_4a0f7_row5_col1\" class=\"data row5 col1\" >Ammonium (nh4_e)</td>\n",
       "      <td id=\"T_4a0f7_row5_col2\" class=\"data row5 col2\" >-1000.000000</td>\n",
       "      <td id=\"T_4a0f7_row5_col3\" class=\"data row5 col3\" >1000.000000</td>\n",
       "    </tr>\n",
       "    <tr>\n",
       "      <th id=\"T_4a0f7_level0_row6\" class=\"row_heading level0 row6\" >6</th>\n",
       "      <td id=\"T_4a0f7_row6_col0\" class=\"data row6 col0\" >EX_o2_e</td>\n",
       "      <td id=\"T_4a0f7_row6_col1\" class=\"data row6 col1\" >Oxygen (o2_e)</td>\n",
       "      <td id=\"T_4a0f7_row6_col2\" class=\"data row6 col2\" >-1000.000000</td>\n",
       "      <td id=\"T_4a0f7_row6_col3\" class=\"data row6 col3\" >1000.000000</td>\n",
       "    </tr>\n",
       "    <tr>\n",
       "      <th id=\"T_4a0f7_level0_row7\" class=\"row_heading level0 row7\" >7</th>\n",
       "      <td id=\"T_4a0f7_row7_col0\" class=\"data row7 col0\" >EX_pi_e</td>\n",
       "      <td id=\"T_4a0f7_row7_col1\" class=\"data row7 col1\" >Phosphate (pi_e)</td>\n",
       "      <td id=\"T_4a0f7_row7_col2\" class=\"data row7 col2\" >-1000.000000</td>\n",
       "      <td id=\"T_4a0f7_row7_col3\" class=\"data row7 col3\" >1000.000000</td>\n",
       "    </tr>\n",
       "  </tbody>\n",
       "</table>\n"
      ],
      "text/plain": [
       "<pandas.io.formats.style.Styler at 0x21b4eb7b9b0>"
      ]
     },
     "execution_count": 7,
     "metadata": {},
     "output_type": "execute_result"
    }
   ],
   "source": [
    "import pandas as pd # Library for data manipulation and table\n",
    "\n",
    "# Data for the table \n",
    "data = {\n",
    "    \"Exchange Reaction\": [\n",
    "        \"EX_co2_e\", \"EX_glc__D_e\", \"EX_glu__L_e\", \n",
    "        \"EX_h_e\", \"EX_h2o_e\", \"EX_nh4_e\", \n",
    "        \"EX_o2_e\", \"EX_pi_e\"\n",
    "    ],\n",
    "    \"Metabolite (External)\": [\n",
    "        \"Carbon Dioxide (co2_e)\", \"Glucose (glc__D_e)\", \"Glutamate (glu__L_e)\",\n",
    "        \"Hydrogen (h_e)\", \"Water (h2o_e)\", \"Ammonium (nh4_e)\",\n",
    "        \"Oxygen (o2_e)\", \"Phosphate (pi_e)\"\n",
    "    ],\n",
    "    \"Lower Bound (Uptake)\": [-1000.0, -7.0, -7.0, -1000.0, -1000.0, -1000.0, -1000.0, -1000.0],\n",
    "    \"Upper Bound\": [1000.0, 1000.0, 1000.0, 1000.0, 1000.0, 1000.0, 1000.0, 1000.0]\n",
    "}\n",
    "\n",
    "# Creating the DF and storing the data in there\n",
    "nutrient_df = pd.DataFrame(data)\n",
    "\n",
    "# Displaying the  table\n",
    "nutrient_df.style.set_caption(\"Table 1: Allowed Nutrient Uptake in the Model\")\n"
   ]
  },
  {
   "cell_type": "markdown",
   "metadata": {},
   "source": [
    "Q3"
   ]
  },
  {
   "cell_type": "code",
   "execution_count": null,
   "metadata": {},
   "outputs": [],
   "source": [
    "# Load the model\n",
    "model_path = r\"\\\\mfs03\\user07\\HLSRICE\\Documents\\Computational\\EXAM2\\PART_1\\e_coli_core_LIFE752.xml\"\n",
    "model = read_sbml_model(model_path)\n"
   ]
  },
  {
   "cell_type": "code",
   "execution_count": null,
   "metadata": {},
   "outputs": [
    {
     "name": "stdout",
     "output_type": "stream",
     "text": [
      "Growth Reaction: [<Reaction BIOMASS_Ecoli_core_w_GAM at 0x21b4edc8350>]\n"
     ]
    }
   ],
   "source": [
    "# Confirming the growth reaction\n",
    "growth_reaction = [rxn for rxn in model.reactions if \"biomass\" in rxn.id.lower()]\n",
    "print(\"Growth Reaction:\", growth_reaction)\n"
   ]
  },
  {
   "cell_type": "code",
   "execution_count": null,
   "metadata": {},
   "outputs": [
    {
     "name": "stdout",
     "output_type": "stream",
     "text": [
      "\n",
      "Predicted Growth Rate: 1.0651 h⁻¹\n"
     ]
    }
   ],
   "source": [
    "# Running FBA\n",
    "solution = model.optimize()\n",
    "\n",
    "# Displaying the predicted growth rate to 4dp\n",
    "growth_rate = solution.objective_value\n",
    "print(f\"\\nPredicted Growth Rate: {growth_rate:.4f} h⁻¹\")\n"
   ]
  },
  {
   "cell_type": "markdown",
   "metadata": {},
   "source": [
    "Escher map for aerobic growth"
   ]
  },
  {
   "cell_type": "markdown",
   "metadata": {},
   "source": [
    "Using built in ecoli core map for visualisation of model"
   ]
  },
  {
   "cell_type": "code",
   "execution_count": null,
   "metadata": {},
   "outputs": [
    {
     "name": "stdout",
     "output_type": "stream",
     "text": [
      "Downloading Map from https://escher.github.io/1-0-0/6/maps/Escherichia%20coli/e_coli_core.Core%20metabolism.json\n"
     ]
    }
   ],
   "source": [
    "# Reimporting all libraries\n",
    "import escher\n",
    "from escher import Builder\n",
    "import cobra\n",
    "from cobra.io import read_sbml_model\n",
    "# Loading the model\n",
    "model_path = r\"\\\\mfs03\\user07\\HLSRICE\\Documents\\Computational\\EXAM2\\PART_1\\e_coli_core_LIFE752.xml\"\n",
    "model = read_sbml_model(model_path)\n",
    "# Set aerobic growth objective to biomass\n",
    "model.objective = \"BIOMASS_Ecoli_core_w_GAM\"\n",
    "solution_aerobic = model.optimize()\n",
    "\n",
    "# Load the Escher map from online fore ecoli core\n",
    "builder_aerobic = Builder(\n",
    "    model=model,\n",
    "    map_name='e_coli_core.Core metabolism',\n",
    "    reaction_data=solution_aerobic.fluxes  # Show  the flux distribution\n",
    ")\n",
    "\n",
    "# Save the map\n",
    "builder_aerobic.save_html(r\"\\\\mfs03\\user07\\HLSRICE\\Documents\\Computational\\EXAM2\\PART_1\\escher_aerobic.html\")\n"
   ]
  },
  {
   "cell_type": "code",
   "execution_count": null,
   "metadata": {},
   "outputs": [],
   "source": [
    "Q4- looking at anaerobic growth"
   ]
  },
  {
   "cell_type": "code",
   "execution_count": 11,
   "metadata": {},
   "outputs": [],
   "source": [
    "import cobra\n",
    "from cobra.io import read_sbml_model\n",
    "\n",
    "# Load the model\n",
    "model_path = r\"\\\\mfs03\\user07\\HLSRICE\\Documents\\Computational\\EXAM2\\PART_1\\e_coli_core_LIFE752.xml\"\n",
    "model = read_sbml_model(model_path)\n"
   ]
  },
  {
   "cell_type": "code",
   "execution_count": null,
   "metadata": {},
   "outputs": [
    {
     "name": "stdout",
     "output_type": "stream",
     "text": [
      "Anaerobic conditions applied (No oxygen).\n"
     ]
    }
   ],
   "source": [
    "# Setting anaerobic conditions\n",
    "model.reactions.get_by_id(\"EX_o2_e\").lower_bound = 0.0\n",
    "model.reactions.get_by_id(\"EX_o2_e\").upper_bound = 0.0\n",
    "print(\"Anaerobic conditions applied (No oxygen).\")\n"
   ]
  },
  {
   "cell_type": "code",
   "execution_count": null,
   "metadata": {},
   "outputs": [
    {
     "name": "stdout",
     "output_type": "stream",
     "text": [
      "\n",
      "Predicted Growth Rate under Anaerobic Conditions: 0.1312 h⁻¹\n"
     ]
    }
   ],
   "source": [
    "# Running FBA under anaerobic\n",
    "solution_anaerobic = model.optimize()\n",
    "\n",
    "# Displaying the predicted growth rate\n",
    "growth_rate_anaerobic = solution_anaerobic.objective_value\n",
    "print(f\"\\nPredicted Growth Rate under Anaerobic Conditions: {growth_rate_anaerobic:.4f} h⁻¹\")\n"
   ]
  },
  {
   "cell_type": "markdown",
   "metadata": {},
   "source": [
    "Escher map"
   ]
  },
  {
   "cell_type": "code",
   "execution_count": null,
   "metadata": {},
   "outputs": [
    {
     "name": "stdout",
     "output_type": "stream",
     "text": [
      "Downloading Map from https://escher.github.io/1-0-0/6/maps/Escherichia%20coli/e_coli_core.Core%20metabolism.json\n"
     ]
    }
   ],
   "source": [
    "# Resetting anaerobic conditions\n",
    "model.reactions.get_by_id(\"EX_o2_e\").lower_bound = 0.0\n",
    "model.reactions.get_by_id(\"EX_o2_e\").upper_bound = 0.0\n",
    "\n",
    "# Running FBA for anaerobic growth \n",
    "solution_anaerobic = model.optimize()\n",
    "\n",
    "# Load and build the escher map\n",
    "builder_anaerobic = Builder(\n",
    "    model=model,\n",
    "    map_name='e_coli_core.Core metabolism',\n",
    "    reaction_data=solution_anaerobic.fluxes\n",
    ")\n",
    "\n",
    "# Saving the Escher map\n",
    "builder_anaerobic.save_html(r\"\\\\mfs03\\user07\\HLSRICE\\Documents\\Computational\\EXAM2\\PART_1\\escher_anaerobic.html\")\n"
   ]
  },
  {
   "cell_type": "markdown",
   "metadata": {},
   "source": [
    "Q5"
   ]
  },
  {
   "cell_type": "code",
   "execution_count": 15,
   "metadata": {},
   "outputs": [],
   "source": [
    "import cobra\n",
    "from cobra.io import read_sbml_model\n",
    "\n",
    "# Load the model\n",
    "model_path = r\"\\\\mfs03\\user07\\HLSRICE\\Documents\\Computational\\EXAM2\\PART_1\\e_coli_core_LIFE752.xml\"\n",
    "model = read_sbml_model(model_path)\n"
   ]
  },
  {
   "cell_type": "markdown",
   "metadata": {},
   "source": [
    "Setting the object function to biomass (growth)"
   ]
  },
  {
   "cell_type": "markdown",
   "metadata": {},
   "source": [
    "Setting objective to growth"
   ]
  },
  {
   "cell_type": "code",
   "execution_count": null,
   "metadata": {},
   "outputs": [
    {
     "name": "stdout",
     "output_type": "stream",
     "text": [
      "Objective set to Biomass Growth.\n"
     ]
    }
   ],
   "source": [
    "# Resetting\n",
    "model.objective = \"BIOMASS_Ecoli_core_w_GAM\" \n",
    "print(\"Objective set to Biomass Growth.\")\n"
   ]
  },
  {
   "cell_type": "markdown",
   "metadata": {},
   "source": [
    "Adjustiung FVA with 90% growth"
   ]
  },
  {
   "cell_type": "code",
   "execution_count": null,
   "metadata": {},
   "outputs": [
    {
     "name": "stdout",
     "output_type": "stream",
     "text": [
      "\n",
      "FVA Results for Ethanol Production (EX_etoh_e):\n",
      "Minimum Production: 0.0000 mmol/gDW/h\n",
      "Maximum Production: 2.6692 mmol/gDW/h\n"
     ]
    }
   ],
   "source": [
    "# Running Flux Variability Analysis (FVA) using 90% of the maximum growth\n",
    "fva_results = cobra.flux_analysis.flux_variability_analysis(\n",
    "    model, \n",
    "    fraction_of_optimum=0.9\n",
    ")\n",
    "\n",
    "# FVA results for ethanol production (EX_etoh_e)\n",
    "fva_etoh = fva_results.loc[\"EX_etoh_e\"]\n",
    "print(\"\\nFVA Results for Ethanol Production (EX_etoh_e):\")\n",
    "print(f\"Minimum Production: {fva_etoh['minimum']:.4f} mmol/gDW/h\")\n",
    "print(f\"Maximum Production: {fva_etoh['maximum']:.4f} mmol/gDW/h\")\n"
   ]
  },
  {
   "cell_type": "markdown",
   "metadata": {},
   "source": [
    "Escher map"
   ]
  },
  {
   "cell_type": "code",
   "execution_count": null,
   "metadata": {},
   "outputs": [
    {
     "name": "stdout",
     "output_type": "stream",
     "text": [
      "Downloading Map from https://escher.github.io/1-0-0/6/maps/Escherichia%20coli/e_coli_core.Core%20metabolism.json\n"
     ]
    }
   ],
   "source": [
    "# Reload the model for aerobic\n",
    "model = read_sbml_model(model_path)\n",
    "\n",
    "# Run FVA with 90% of ioptimal growth\n",
    "fva_results = cobra.flux_analysis.flux_variability_analysis(\n",
    "    model, \n",
    "    fraction_of_optimum=0.9\n",
    ")\n",
    "\n",
    "# Extracting ethanol flux for graph\n",
    "ethanol_fluxes = model.optimize().fluxes.copy()\n",
    "ethanol_fluxes[\"EX_etoh_e\"] = fva_results.loc[\"EX_etoh_e\"][\"maximum\"]\n",
    "\n",
    "# Load and build escher map for aerobic\n",
    "builder_ethanol = Builder(\n",
    "    model=model,\n",
    "    map_name='e_coli_core.Core metabolism',\n",
    "    reaction_data=ethanol_fluxes\n",
    ")\n",
    "\n",
    "# Save the Escher Map (Maximum Ethanol Production)\n",
    "builder_ethanol.save_html(r\"\\\\mfs03\\user07\\HLSRICE\\Documents\\Computational\\EXAM2\\PART_1\\escher_ethanol.html\")\n"
   ]
  },
  {
   "cell_type": "markdown",
   "metadata": {},
   "source": [
    "Q6"
   ]
  },
  {
   "cell_type": "markdown",
   "metadata": {},
   "source": [
    "Reload model"
   ]
  },
  {
   "cell_type": "code",
   "execution_count": 18,
   "metadata": {},
   "outputs": [],
   "source": [
    "import cobra\n",
    "from cobra.io import read_sbml_model\n",
    "\n",
    "# Load the model\n",
    "model_path = r\"\\\\mfs03\\user07\\HLSRICE\\Documents\\Computational\\EXAM2\\PART_1\\e_coli_core_LIFE752.xml\"\n",
    "model = read_sbml_model(model_path)\n",
    "\n"
   ]
  },
  {
   "cell_type": "markdown",
   "metadata": {},
   "source": [
    "Repeat for 85% and acetate"
   ]
  },
  {
   "cell_type": "code",
   "execution_count": null,
   "metadata": {},
   "outputs": [
    {
     "name": "stdout",
     "output_type": "stream",
     "text": [
      "Objective set to Biomass Growth.\n",
      "Maximum Growth Rate: 1.0651 h⁻¹\n"
     ]
    }
   ],
   "source": [
    "# reseeting everything\n",
    "model.objective = \"BIOMASS_Ecoli_core_w_GAM\" \n",
    "print(\"Objective set to Biomass Growth.\")\n",
    "solution = model.optimize()\n",
    "max_growth = solution.objective_value\n",
    "print(f\"Maximum Growth Rate: {max_growth:.4f} h⁻¹\")\n"
   ]
  },
  {
   "cell_type": "markdown",
   "metadata": {},
   "source": [
    "Contrain the model to 85% of the maximum growth"
   ]
  },
  {
   "cell_type": "markdown",
   "metadata": {},
   "source": [
    "Setting the minimum growth rate to 85% of the maximum"
   ]
  },
  {
   "cell_type": "code",
   "execution_count": null,
   "metadata": {},
   "outputs": [
    {
     "name": "stdout",
     "output_type": "stream",
     "text": [
      "Minimum Growth Rate set to 85% of Maximum: 0.9053 h⁻¹\n"
     ]
    }
   ],
   "source": [
    "# Setting minimum growth rate\n",
    "min_growth = 0.85 * max_growth\n",
    "growth_reaction = model.reactions.get_by_id(\"BIOMASS_Ecoli_core_w_GAM\")\n",
    "growth_reaction.lower_bound = min_growth\n",
    "print(f\"Minimum Growth Rate set to 85% of Maximum: {min_growth:.4f} h⁻¹\")\n"
   ]
  },
  {
   "cell_type": "markdown",
   "metadata": {},
   "source": [
    "Setting acetate export as the new objective "
   ]
  },
  {
   "cell_type": "code",
   "execution_count": null,
   "metadata": {},
   "outputs": [
    {
     "name": "stdout",
     "output_type": "stream",
     "text": [
      "Objective set to Acetate Export (EX_ac_e).\n"
     ]
    }
   ],
   "source": [
    "# Setting acetate export (EX_ac_e) as the Objective\n",
    "model.objective = \"EX_ac_e\"\n",
    "print(\"Objective set to Acetate Export (EX_ac_e).\")\n"
   ]
  },
  {
   "cell_type": "code",
   "execution_count": null,
   "metadata": {},
   "outputs": [
    {
     "name": "stdout",
     "output_type": "stream",
     "text": [
      "\n",
      "Maximum Acetate Production with pFBA (85% Growth): 6.8953 mmol/gDW/h\n"
     ]
    }
   ],
   "source": [
    "from cobra.flux_analysis import pfba\n",
    "\n",
    "# Running pFBA on model\n",
    "pfba_solution = pfba(model)\n",
    "\n",
    "# Displaying the mac acetate production under conditions\n",
    "acetate_production = pfba_solution.fluxes.get(\"EX_ac_e\")\n",
    "print(f\"\\nMaximum Acetate Production with pFBA (85% Growth): {acetate_production:.4f} mmol/gDW/h\")\n"
   ]
  },
  {
   "cell_type": "markdown",
   "metadata": {},
   "source": [
    "Escher map"
   ]
  },
  {
   "cell_type": "markdown",
   "metadata": {},
   "source": [
    "Building Escher map for these conditions"
   ]
  },
  {
   "cell_type": "code",
   "execution_count": null,
   "metadata": {},
   "outputs": [
    {
     "name": "stdout",
     "output_type": "stream",
     "text": [
      "Downloading Map from https://escher.github.io/1-0-0/6/maps/Escherichia%20coli/e_coli_core.Core%20metabolism.json\n"
     ]
    }
   ],
   "source": [
    "# Reload model\n",
    "model = read_sbml_model(model_path)\n",
    "\n",
    "# Set growth limit 85%\n",
    "solution = model.optimize()\n",
    "min_growth = 0.85 * solution.objective_value\n",
    "growth_reaction = model.reactions.get_by_id(\"BIOMASS_Ecoli_core_w_GAM\")\n",
    "growth_reaction.lower_bound = min_growth\n",
    "\n",
    "# Set Acetate export as objective\n",
    "model.objective = \"EX_ac_e\"\n",
    "\n",
    "# Run pFBA for max acetate\n",
    "pfba_solution = cobra.flux_analysis.pfba(model)\n",
    "\n",
    "# Load and build escher map for conditions\n",
    "builder_acetate = Builder(\n",
    "    model=model,\n",
    "    map_name='e_coli_core.Core metabolism',\n",
    "    reaction_data=pfba_solution.fluxes\n",
    ")\n",
    "\n",
    "# Save map\n",
    "builder_acetate.save_html(r\"\\\\mfs03\\user07\\HLSRICE\\Documents\\Computational\\EXAM2\\PART_1\\escher_acetate.html\")\n"
   ]
  }
 ],
 "metadata": {
  "kernelspec": {
   "display_name": "Python 3",
   "language": "python",
   "name": "python3"
  },
  "language_info": {
   "codemirror_mode": {
    "name": "ipython",
    "version": 3
   },
   "file_extension": ".py",
   "mimetype": "text/x-python",
   "name": "python",
   "nbconvert_exporter": "python",
   "pygments_lexer": "ipython3",
   "version": "3.12.6"
  }
 },
 "nbformat": 4,
 "nbformat_minor": 2
}
