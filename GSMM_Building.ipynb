{
 "cells": [
  {
   "cell_type": "markdown",
   "metadata": {},
   "source": [
    "Computational Assignment 2 Part 1 GWMMs"
   ]
  },
  {
   "cell_type": "code",
   "execution_count": null,
   "metadata": {},
   "outputs": [
    {
     "name": "stdout",
     "output_type": "stream",
     "text": [
      "c:\\Program Files\\Microsoft VS Code\n"
     ]
    }
   ],
   "source": [
    "import os\n",
    "print(os.getcwd())  # Printing working directory\n"
   ]
  },
  {
   "cell_type": "markdown",
   "metadata": {},
   "source": [
    "Creating a custom simplified GWMM"
   ]
  },
  {
   "cell_type": "code",
   "execution_count": null,
   "metadata": {},
   "outputs": [
    {
     "name": "stdout",
     "output_type": "stream",
     "text": [
      "Restricted license - for non-production use only - expires 2026-11-23\n"
     ]
    }
   ],
   "source": [
    "# Importing necessary libraries\n",
    "import cobra\n",
    "from cobra.io import write_sbml_model, save_json_model\n",
    "\n",
    "# Creating a new model\n",
    "model = cobra.Model(\"Assignment_Model_Complete\")\n",
    "\n",
    "# Defining metabolites (intracellular)\n",
    "O = cobra.Metabolite('O', compartment='c') # Oxygen\n",
    "C = cobra.Metabolite('C', compartment='c') # Carbon\n",
    "N = cobra.Metabolite('N', compartment='c') # Nitrogen\n",
    "B = cobra.Metabolite('B', compartment='c') # Biomass\n",
    "P = cobra.Metabolite('P', compartment='c') # Product\n",
    "\n",
    "O_e = cobra.Metabolite('O_e', compartment='e') # Oxygen external\n",
    "C_e = cobra.Metabolite('C_e', compartment='e') # Carbon external\n",
    "N_e = cobra.Metabolite('N_e', compartment='e') # Nitrogen external\n",
    "B_e = cobra.Metabolite('B_e', compartment='e') # B external\n",
    "P_e = cobra.Metabolite('P_e', compartment='e') # P external\n",
    "\n",
    "# Defining reactions with stoichiometry and GPR rules\n",
    "# Demand reactions (DM) for external metabolites\n",
    "DM_C = cobra.Reaction('DM_C_e') # Carbon import\n",
    "DM_C.lower_bound = -1000 # Import to system (negative flux)\n",
    "DM_C.upper_bound = 0\n",
    "DM_C.add_metabolites({C_e: -1})\n",
    "\n",
    "DM_O = cobra.Reaction('DM_O_e')\n",
    "DM_O.lower_bound = -1000 # Import to system (negative flux)\n",
    "DM_O.upper_bound = 0\n",
    "DM_O.add_metabolites({O_e: -1})\n",
    "\n",
    "DM_N = cobra.Reaction('DM_N_e')\n",
    "DM_N.lower_bound = -1000 # Import to system (negative flux)\n",
    "DM_N.upper_bound = 0\n",
    "DM_N.add_metabolites({N_e: -1})\n",
    "\n",
    "# Main reactions (v1 to v7)\n",
    "v1 = cobra.Reaction('v1')\n",
    "v1.add_metabolites({O_e: -1, O: 1}) # O enters the cell\n",
    "v1.lower_bound = 0 # Irreversible import only\n",
    "v1.upper_bound = 1000\n",
    "v1.gene_reaction_rule = \"gene1\" # Defining associated gene/genes\n",
    "\n",
    "v2 = cobra.Reaction('v2')\n",
    "v2.add_metabolites({C_e: -1, C: 1}) # C enters cell\n",
    "v2.lower_bound = 0 # Irreversible import only\n",
    "v2.upper_bound = 1000\n",
    "v2.gene_reaction_rule = \"gene1 or gene2 or gene3\" # Defining associated gene/genes\n",
    "\n",
    "v3 = cobra.Reaction('v3')\n",
    "v3.add_metabolites({N_e: -1, N: 1}) # N enters cell\n",
    "v3.lower_bound = 0 # Irreversible import only\n",
    "v3.upper_bound = 1000\n",
    "v3.gene_reaction_rule = \"gene2 or gene4\" # Defining associated gene/genes\n",
    "\n",
    "v4 = cobra.Reaction('v4') # 2B formation from 0, C and N\n",
    "v4.add_metabolites({O: -1, C: -1, N: -1, B: 2})\n",
    "v4.lower_bound = 0 # Irreversible \n",
    "v4.upper_bound = 1000\n",
    "v4.gene_reaction_rule = \"(gene5 or gene6) and gene7\" # Defining associated gene/genes\n",
    "\n",
    "v5 = cobra.Reaction('v5')\n",
    "v5.add_metabolites({C: -1, N: -1, B: 1, P: 1}) # BP from CN\n",
    "v5.lower_bound = -1000  # Reversible \n",
    "v5.upper_bound = 1000\n",
    "v5.gene_reaction_rule = \"gene8 or (gene9 and gene10)\" # Defining associated gene/genes\n",
    "\n",
    "v6 = cobra.Reaction('v6')\n",
    "v6.add_metabolites({B: -1, B_e: 1}) # B exits from cell\n",
    "v6.lower_bound = 0 # Irreversible\n",
    "v6.upper_bound = 1000\n",
    "v6.gene_reaction_rule = \"gene11 and gene12 and gene13\" # Defining associated gene/genes\n",
    " \n",
    "v7 = cobra.Reaction('v7')\n",
    "v7.add_metabolites({P: -1, P_e: 1}) # e export\n",
    "v7.lower_bound = 0 # Irreversible\n",
    "v7.upper_bound = 1000\n",
    "v7.gene_reaction_rule = \"gene14\" # Defining associated gene/genes\n",
    "\n",
    "# Sink reactions (SK) for export of metabolites\n",
    "SK_B = cobra.Reaction('SK_B_e')\n",
    "SK_B.add_metabolites({B_e: -1}) # Removes B from the environment\n",
    "SK_B.lower_bound = 0 # Irreversible\n",
    "SK_B.upper_bound = 1000\n",
    "\n",
    "SK_P = cobra.Reaction('SK_P_e')\n",
    "SK_P.add_metabolites({P_e: -1}) # Removes P from the environment\n",
    "SK_P.lower_bound = 0 # Irreversible\n",
    "SK_P.upper_bound = 1000\n",
    "\n",
    "# Adding all reactions to the model\n",
    "model.add_reactions([DM_C, DM_O, DM_N, v1, v2, v3, v4, v5, v6, v7, SK_B, SK_P])\n",
    "\n",
    "# Saving the model \n",
    "# Specified directory \n",
    "save_path = r\"\\\\mfs03\\user07\\HLSRICE\\Documents\\Computational\\EXAM2\\PART_1\"\n",
    "\n",
    "# Save as SBML \n",
    "write_sbml_model(model, f\"{save_path}\\\\assignment_model_complete.xml\")\n",
    "\n",
    "# Save as JSON \n",
    "save_json_model(model, f\"{save_path}\\\\assignment_model_complete.json\")\n"
   ]
  },
  {
   "cell_type": "markdown",
   "metadata": {},
   "source": [
    "Q2"
   ]
  },
  {
   "cell_type": "markdown",
   "metadata": {},
   "source": [
    "Restricting the model inputs "
   ]
  },
  {
   "cell_type": "code",
   "execution_count": null,
   "metadata": {},
   "outputs": [
    {
     "name": "stderr",
     "output_type": "stream",
     "text": [
      "No objective coefficients in model. Unclear what should be optimized\n"
     ]
    }
   ],
   "source": [
    "# Reimporting libraries for reproducibility\n",
    "import cobra\n",
    "from cobra.io import write_sbml_model, save_json_model\n",
    "\n",
    "# Defining the file path for the model\n",
    "model_path = r\"\\\\mfs03\\user07\\HLSRICE\\Documents\\Computational\\EXAM2\\PART_1\\assignment_model_complete.xml\"\n",
    "\n",
    "# Loading the model\n",
    "model = cobra.io.read_sbml_model(model_path)\n",
    "\n",
    "# Setting the objective function (optimising v6)\n",
    "model.objective = \"v6\" \n",
    "\n",
    "# setting the maximum uptake constraints for N, C, and O\n",
    "# Uptake of N (DM_N_e) with a maximum of 10 mmol/gDW/h\n",
    "model.reactions.get_by_id(\"DM_N_e\").lower_bound = -10\n",
    "model.reactions.get_by_id(\"DM_N_e\").upper_bound = 0\n",
    "\n",
    "# Uptake of C (DM_C_e) with a maximum of 15 mmol/gDW/h\n",
    "model.reactions.get_by_id(\"DM_C_e\").lower_bound = -15\n",
    "model.reactions.get_by_id(\"DM_C_e\").upper_bound = 0\n",
    "\n",
    "# Uptake of O (DM_O_e) with a maximum of 10 mmol/gDW/h\n",
    "model.reactions.get_by_id(\"DM_O_e\").lower_bound = -10\n",
    "model.reactions.get_by_id(\"DM_O_e\").upper_bound = 0\n",
    "\n",
    "# Saving the updated model in both formats (SBML and JSON)\n",
    "save_path = r\"\\\\mfs03\\user07\\HLSRICE\\Documents\\Computational\\EXAM2\\PART_1\"\n",
    "write_sbml_model(model, f\"{save_path}\\\\assignment_model_updated.xml\")  # Save as XML (SBML)\n",
    "save_json_model(model, f\"{save_path}\\\\assignment_model_updated.json\")  # Save as JSON \n",
    "\n"
   ]
  },
  {
   "cell_type": "markdown",
   "metadata": {},
   "source": [
    "Calculating FBA with restricted inputs"
   ]
  },
  {
   "cell_type": "code",
   "execution_count": null,
   "metadata": {},
   "outputs": [
    {
     "name": "stdout",
     "output_type": "stream",
     "text": [
      "Flux Distribution from FBA:\n",
      "\n",
      "DM_C_e   -10.0\n",
      "DM_O_e   -10.0\n",
      "DM_N_e   -10.0\n",
      "v1        10.0\n",
      "v2        10.0\n",
      "v3        10.0\n",
      "v4        10.0\n",
      "v5         0.0\n",
      "v6        20.0\n",
      "v7         0.0\n",
      "SK_B_e    20.0\n",
      "SK_P_e     0.0\n",
      "Name: fluxes, dtype: float64\n"
     ]
    }
   ],
   "source": [
    "# Reimporting libraries for reproducibility\n",
    "import cobra\n",
    "from cobra.io import read_sbml_model\n",
    "\n",
    "# Loading the updated model using path\n",
    "model_path = r\"\\\\mfs03\\user07\\HLSRICE\\Documents\\Computational\\EXAM2\\PART_1\\assignment_model_updated.xml\"\n",
    "model = read_sbml_model(model_path)\n",
    "\n",
    "# Running Flux Balance Analysis (FBA)\n",
    "solution = model.optimize()\n",
    "\n",
    "# Displaying the flux distribution for all reactions\n",
    "print(\"Flux Distribution from FBA:\\n\")\n",
    "print(solution.fluxes)\n",
    "\n",
    "# Saving the flux distribution to CSV\n",
    "solution.fluxes.to_frame().to_csv(r\"\\\\mfs03\\user07\\HLSRICE\\Documents\\Computational\\EXAM2\\PART_1\\FBA_flux_distribution.csv\")\n"
   ]
  },
  {
   "cell_type": "markdown",
   "metadata": {},
   "source": [
    "Escher maps for visualisation"
   ]
  },
  {
   "cell_type": "code",
   "execution_count": null,
   "metadata": {},
   "outputs": [
    {
     "data": {
      "application/vnd.jupyter.widget-view+json": {
       "model_id": "e25fc6c94e9b4100a2cc38b08c6ddc7b",
       "version_major": 2,
       "version_minor": 0
      },
      "text/plain": [
       "Builder(reaction_data={'DM_C_e': np.float64(-10.0), 'DM_O_e': np.float64(-10.0), 'DM_N_e': np.float64(-10.0), …"
      ]
     },
     "metadata": {},
     "output_type": "display_data"
    }
   ],
   "source": [
    "# Importing Escher library for escher mapping \n",
    "import escher\n",
    "from escher import Builder\n",
    "\n",
    "# Specifing path\n",
    "map_path = r\"\\\\mfs03\\user07\\HLSRICE\\Documents\\Computational\\EXAM2\\PART_1\\assignment_map.json\"\n",
    "\n",
    "# Loading the custom map with the optimised model\n",
    "builder = Builder(\n",
    "    model=model,              # defining the optimised model\n",
    "    map_json=map_path,        # defining the custom Escher map that was given from the assignment (template)\n",
    "    reaction_data=solution.fluxes  # Integrate FBA results into the heatmap to show effects\n",
    ")\n",
    "\n",
    "# Display the map\n",
    "builder\n",
    "\n"
   ]
  },
  {
   "cell_type": "markdown",
   "metadata": {},
   "source": [
    "Defining colour scale"
   ]
  },
  {
   "cell_type": "code",
   "execution_count": null,
   "metadata": {},
   "outputs": [],
   "source": [
    "# Customise map appearance to maintain consistency over graphs\n",
    "builder.reaction_scale_preset = 'GaBuRd'  # Blue to red gradient\n",
    "builder.reaction_scale = [\n",
    "    {'type': 'min', 'color': '#0000FF', 'size': 10},  # Defining low flux (blue)\n",
    "    {'type': 'median', 'color': '#FFFF00', 'size': 15},  # defining medium flux (yellow)\n",
    "    {'type': 'max', 'color': '#FF0000', 'size': 25}   # defining high flux (red)\n",
    "]\n",
    "\n",
    "# Hiding certain labels for clarity\n",
    "builder.hide_secondary_metabolites = True\n",
    "builder.hide_all_labels = False  # Setting to True hides all labels\n"
   ]
  },
  {
   "cell_type": "markdown",
   "metadata": {},
   "source": [
    "Saving"
   ]
  },
  {
   "cell_type": "code",
   "execution_count": null,
   "metadata": {},
   "outputs": [],
   "source": [
    "# Save the Escher map as HTML for visualisation\n",
    "save_path = r\"\\\\mfs03\\user07\\HLSRICE\\Documents\\Computational\\EXAM2\\PART_1\\assignment_custom_escher_map.html\"\n",
    "builder.save_html(save_path)\n",
    "\n"
   ]
  },
  {
   "cell_type": "markdown",
   "metadata": {},
   "source": [
    "Q4"
   ]
  },
  {
   "cell_type": "markdown",
   "metadata": {},
   "source": [
    "Reloading model"
   ]
  },
  {
   "cell_type": "code",
   "execution_count": null,
   "metadata": {},
   "outputs": [],
   "source": [
    "# Define the model path and reloading\n",
    "model_path = r\"\\\\mfs03\\user07\\HLSRICE\\Documents\\Computational\\EXAM2\\PART_1\\assignment_model_updated.xml\"\n",
    "\n",
    "# Function to reload the model to ensure initial conditions for speed and efficiency\n",
    "def reload_model():\n",
    "    model = read_sbml_model(model_path)\n",
    "    return model\n"
   ]
  },
  {
   "cell_type": "markdown",
   "metadata": {},
   "source": [
    "GENE1"
   ]
  },
  {
   "cell_type": "markdown",
   "metadata": {},
   "source": [
    "Reloading model and displaying gene1 deletion"
   ]
  },
  {
   "cell_type": "code",
   "execution_count": null,
   "metadata": {},
   "outputs": [
    {
     "name": "stdout",
     "output_type": "stream",
     "text": [
      "FBA Results after Deleting Gene1:\n",
      "\n",
      "DM_C_e   -10.0\n",
      "DM_O_e     0.0\n",
      "DM_N_e   -10.0\n",
      "v1         0.0\n",
      "v2        10.0\n",
      "v3        10.0\n",
      "v4         0.0\n",
      "v5        10.0\n",
      "v6        10.0\n",
      "v7        10.0\n",
      "SK_B_e    10.0\n",
      "SK_P_e    10.0\n",
      "Name: fluxes, dtype: float64\n"
     ]
    }
   ],
   "source": [
    "# Reloading the initial model\n",
    "model = reload_model()\n",
    "\n",
    "# Deleting Gene1\n",
    "model.genes.get_by_id(\"gene1\").knock_out()\n",
    "\n",
    "# Re-running FBA\n",
    "solution_gene1 = model.optimize()\n",
    "\n",
    "# Displaying the FBA results for deletion of Gene1\n",
    "print(\"FBA Results after Deleting Gene1:\\n\")\n",
    "print(solution_gene1.fluxes)\n"
   ]
  },
  {
   "cell_type": "markdown",
   "metadata": {},
   "source": [
    "GENE5"
   ]
  },
  {
   "cell_type": "markdown",
   "metadata": {},
   "source": [
    "Gene5 deletion"
   ]
  },
  {
   "cell_type": "code",
   "execution_count": null,
   "metadata": {},
   "outputs": [
    {
     "name": "stdout",
     "output_type": "stream",
     "text": [
      "\n",
      "FBA Results after Deleting Gene5:\n",
      "\n",
      "DM_C_e   -10.0\n",
      "DM_O_e   -10.0\n",
      "DM_N_e   -10.0\n",
      "v1        10.0\n",
      "v2        10.0\n",
      "v3        10.0\n",
      "v4        10.0\n",
      "v5         0.0\n",
      "v6        20.0\n",
      "v7         0.0\n",
      "SK_B_e    20.0\n",
      "SK_P_e     0.0\n",
      "Name: fluxes, dtype: float64\n"
     ]
    }
   ],
   "source": [
    "# Reloading the initial model\n",
    "model = reload_model()\n",
    "\n",
    "# Deleting Gene5\n",
    "model.genes.get_by_id(\"gene5\").knock_out()\n",
    "\n",
    "# Re-running FBA\n",
    "solution_gene5 = model.optimize()\n",
    "\n",
    "# Displaying the FBA results for deletion of Gene5\n",
    "print(\"FBA Results after Deleting Gene5:\\n\")\n",
    "print(solution_gene5.fluxes)\n"
   ]
  },
  {
   "cell_type": "markdown",
   "metadata": {},
   "source": [
    "GENE14"
   ]
  },
  {
   "cell_type": "markdown",
   "metadata": {},
   "source": [
    "Gene14 deletion"
   ]
  },
  {
   "cell_type": "code",
   "execution_count": null,
   "metadata": {},
   "outputs": [
    {
     "name": "stdout",
     "output_type": "stream",
     "text": [
      "\n",
      "FBA Results after Deleting Gene14:\n",
      "\n",
      "DM_C_e   -10.0\n",
      "DM_O_e   -10.0\n",
      "DM_N_e   -10.0\n",
      "v1        10.0\n",
      "v2        10.0\n",
      "v3        10.0\n",
      "v4        10.0\n",
      "v5         0.0\n",
      "v6        20.0\n",
      "v7         0.0\n",
      "SK_B_e    20.0\n",
      "SK_P_e     0.0\n",
      "Name: fluxes, dtype: float64\n"
     ]
    }
   ],
   "source": [
    "# Reloading the initial model\n",
    "model = reload_model()\n",
    "\n",
    "# Deleting Gene14\n",
    "model.genes.get_by_id(\"gene14\").knock_out()\n",
    "\n",
    "# Re-running FBA\n",
    "solution_gene14 = model.optimize()\n",
    "\n",
    "# Displaying the FBA results for deletion of Gene14\n",
    "print(\"FBA Results after Deleting Gene14:\\n\")\n",
    "print(solution_gene14.fluxes)"
   ]
  },
  {
   "cell_type": "markdown",
   "metadata": {},
   "source": [
    "Visualisation"
   ]
  },
  {
   "cell_type": "markdown",
   "metadata": {},
   "source": [
    "Creating a table"
   ]
  },
  {
   "cell_type": "code",
   "execution_count": null,
   "metadata": {},
   "outputs": [
    {
     "data": {
      "text/html": [
       "<style type=\"text/css\">\n",
       "</style>\n",
       "<table id=\"T_4ae7b\">\n",
       "  <caption>Comparison of FBA Results Before and After Gene Deletions</caption>\n",
       "  <thead>\n",
       "    <tr>\n",
       "      <th class=\"blank level0\" >&nbsp;</th>\n",
       "      <th id=\"T_4ae7b_level0_col0\" class=\"col_heading level0 col0\" >Reaction</th>\n",
       "      <th id=\"T_4ae7b_level0_col1\" class=\"col_heading level0 col1\" >Baseline Flux</th>\n",
       "      <th id=\"T_4ae7b_level0_col2\" class=\"col_heading level0 col2\" >Gene1 Deleted</th>\n",
       "      <th id=\"T_4ae7b_level0_col3\" class=\"col_heading level0 col3\" >Gene5 Deleted</th>\n",
       "      <th id=\"T_4ae7b_level0_col4\" class=\"col_heading level0 col4\" >Gene14 Deleted</th>\n",
       "    </tr>\n",
       "  </thead>\n",
       "  <tbody>\n",
       "    <tr>\n",
       "      <th id=\"T_4ae7b_level0_row0\" class=\"row_heading level0 row0\" >0</th>\n",
       "      <td id=\"T_4ae7b_row0_col0\" class=\"data row0 col0\" >DM_C_e</td>\n",
       "      <td id=\"T_4ae7b_row0_col1\" class=\"data row0 col1\" >-10</td>\n",
       "      <td id=\"T_4ae7b_row0_col2\" class=\"data row0 col2\" >-10</td>\n",
       "      <td id=\"T_4ae7b_row0_col3\" class=\"data row0 col3\" >-10</td>\n",
       "      <td id=\"T_4ae7b_row0_col4\" class=\"data row0 col4\" >-10</td>\n",
       "    </tr>\n",
       "    <tr>\n",
       "      <th id=\"T_4ae7b_level0_row1\" class=\"row_heading level0 row1\" >1</th>\n",
       "      <td id=\"T_4ae7b_row1_col0\" class=\"data row1 col0\" >DM_O_e</td>\n",
       "      <td id=\"T_4ae7b_row1_col1\" class=\"data row1 col1\" >-10</td>\n",
       "      <td id=\"T_4ae7b_row1_col2\" class=\"data row1 col2\" >0</td>\n",
       "      <td id=\"T_4ae7b_row1_col3\" class=\"data row1 col3\" >-10</td>\n",
       "      <td id=\"T_4ae7b_row1_col4\" class=\"data row1 col4\" >-10</td>\n",
       "    </tr>\n",
       "    <tr>\n",
       "      <th id=\"T_4ae7b_level0_row2\" class=\"row_heading level0 row2\" >2</th>\n",
       "      <td id=\"T_4ae7b_row2_col0\" class=\"data row2 col0\" >DM_N_e</td>\n",
       "      <td id=\"T_4ae7b_row2_col1\" class=\"data row2 col1\" >-10</td>\n",
       "      <td id=\"T_4ae7b_row2_col2\" class=\"data row2 col2\" >-10</td>\n",
       "      <td id=\"T_4ae7b_row2_col3\" class=\"data row2 col3\" >-10</td>\n",
       "      <td id=\"T_4ae7b_row2_col4\" class=\"data row2 col4\" >-10</td>\n",
       "    </tr>\n",
       "    <tr>\n",
       "      <th id=\"T_4ae7b_level0_row3\" class=\"row_heading level0 row3\" >3</th>\n",
       "      <td id=\"T_4ae7b_row3_col0\" class=\"data row3 col0\" >v1</td>\n",
       "      <td id=\"T_4ae7b_row3_col1\" class=\"data row3 col1\" >10</td>\n",
       "      <td id=\"T_4ae7b_row3_col2\" class=\"data row3 col2\" >0</td>\n",
       "      <td id=\"T_4ae7b_row3_col3\" class=\"data row3 col3\" >10</td>\n",
       "      <td id=\"T_4ae7b_row3_col4\" class=\"data row3 col4\" >10</td>\n",
       "    </tr>\n",
       "    <tr>\n",
       "      <th id=\"T_4ae7b_level0_row4\" class=\"row_heading level0 row4\" >4</th>\n",
       "      <td id=\"T_4ae7b_row4_col0\" class=\"data row4 col0\" >v2</td>\n",
       "      <td id=\"T_4ae7b_row4_col1\" class=\"data row4 col1\" >10</td>\n",
       "      <td id=\"T_4ae7b_row4_col2\" class=\"data row4 col2\" >10</td>\n",
       "      <td id=\"T_4ae7b_row4_col3\" class=\"data row4 col3\" >10</td>\n",
       "      <td id=\"T_4ae7b_row4_col4\" class=\"data row4 col4\" >10</td>\n",
       "    </tr>\n",
       "    <tr>\n",
       "      <th id=\"T_4ae7b_level0_row5\" class=\"row_heading level0 row5\" >5</th>\n",
       "      <td id=\"T_4ae7b_row5_col0\" class=\"data row5 col0\" >v3</td>\n",
       "      <td id=\"T_4ae7b_row5_col1\" class=\"data row5 col1\" >10</td>\n",
       "      <td id=\"T_4ae7b_row5_col2\" class=\"data row5 col2\" >10</td>\n",
       "      <td id=\"T_4ae7b_row5_col3\" class=\"data row5 col3\" >10</td>\n",
       "      <td id=\"T_4ae7b_row5_col4\" class=\"data row5 col4\" >10</td>\n",
       "    </tr>\n",
       "    <tr>\n",
       "      <th id=\"T_4ae7b_level0_row6\" class=\"row_heading level0 row6\" >6</th>\n",
       "      <td id=\"T_4ae7b_row6_col0\" class=\"data row6 col0\" >v4</td>\n",
       "      <td id=\"T_4ae7b_row6_col1\" class=\"data row6 col1\" >10</td>\n",
       "      <td id=\"T_4ae7b_row6_col2\" class=\"data row6 col2\" >0</td>\n",
       "      <td id=\"T_4ae7b_row6_col3\" class=\"data row6 col3\" >10</td>\n",
       "      <td id=\"T_4ae7b_row6_col4\" class=\"data row6 col4\" >10</td>\n",
       "    </tr>\n",
       "    <tr>\n",
       "      <th id=\"T_4ae7b_level0_row7\" class=\"row_heading level0 row7\" >7</th>\n",
       "      <td id=\"T_4ae7b_row7_col0\" class=\"data row7 col0\" >v5</td>\n",
       "      <td id=\"T_4ae7b_row7_col1\" class=\"data row7 col1\" >0</td>\n",
       "      <td id=\"T_4ae7b_row7_col2\" class=\"data row7 col2\" >10</td>\n",
       "      <td id=\"T_4ae7b_row7_col3\" class=\"data row7 col3\" >0</td>\n",
       "      <td id=\"T_4ae7b_row7_col4\" class=\"data row7 col4\" >0</td>\n",
       "    </tr>\n",
       "    <tr>\n",
       "      <th id=\"T_4ae7b_level0_row8\" class=\"row_heading level0 row8\" >8</th>\n",
       "      <td id=\"T_4ae7b_row8_col0\" class=\"data row8 col0\" >v6</td>\n",
       "      <td id=\"T_4ae7b_row8_col1\" class=\"data row8 col1\" >20</td>\n",
       "      <td id=\"T_4ae7b_row8_col2\" class=\"data row8 col2\" >10</td>\n",
       "      <td id=\"T_4ae7b_row8_col3\" class=\"data row8 col3\" >20</td>\n",
       "      <td id=\"T_4ae7b_row8_col4\" class=\"data row8 col4\" >20</td>\n",
       "    </tr>\n",
       "    <tr>\n",
       "      <th id=\"T_4ae7b_level0_row9\" class=\"row_heading level0 row9\" >9</th>\n",
       "      <td id=\"T_4ae7b_row9_col0\" class=\"data row9 col0\" >v7</td>\n",
       "      <td id=\"T_4ae7b_row9_col1\" class=\"data row9 col1\" >0</td>\n",
       "      <td id=\"T_4ae7b_row9_col2\" class=\"data row9 col2\" >10</td>\n",
       "      <td id=\"T_4ae7b_row9_col3\" class=\"data row9 col3\" >0</td>\n",
       "      <td id=\"T_4ae7b_row9_col4\" class=\"data row9 col4\" >0</td>\n",
       "    </tr>\n",
       "    <tr>\n",
       "      <th id=\"T_4ae7b_level0_row10\" class=\"row_heading level0 row10\" >10</th>\n",
       "      <td id=\"T_4ae7b_row10_col0\" class=\"data row10 col0\" >SK_B_e</td>\n",
       "      <td id=\"T_4ae7b_row10_col1\" class=\"data row10 col1\" >20</td>\n",
       "      <td id=\"T_4ae7b_row10_col2\" class=\"data row10 col2\" >10</td>\n",
       "      <td id=\"T_4ae7b_row10_col3\" class=\"data row10 col3\" >20</td>\n",
       "      <td id=\"T_4ae7b_row10_col4\" class=\"data row10 col4\" >20</td>\n",
       "    </tr>\n",
       "    <tr>\n",
       "      <th id=\"T_4ae7b_level0_row11\" class=\"row_heading level0 row11\" >11</th>\n",
       "      <td id=\"T_4ae7b_row11_col0\" class=\"data row11 col0\" >SK_P_e</td>\n",
       "      <td id=\"T_4ae7b_row11_col1\" class=\"data row11 col1\" >0</td>\n",
       "      <td id=\"T_4ae7b_row11_col2\" class=\"data row11 col2\" >10</td>\n",
       "      <td id=\"T_4ae7b_row11_col3\" class=\"data row11 col3\" >0</td>\n",
       "      <td id=\"T_4ae7b_row11_col4\" class=\"data row11 col4\" >0</td>\n",
       "    </tr>\n",
       "  </tbody>\n",
       "</table>\n"
      ],
      "text/plain": [
       "<pandas.io.formats.style.Styler at 0x177f5e918b0>"
      ]
     },
     "execution_count": 18,
     "metadata": {},
     "output_type": "execute_result"
    }
   ],
   "source": [
    "# TABLE for results\n",
    "import pandas as pd\n",
    "\n",
    "# Baseline FBA results before deletion\n",
    "baseline = {\n",
    "    \"Reaction\": [\"DM_C_e\", \"DM_O_e\", \"DM_N_e\", \"v1\", \"v2\", \"v3\", \"v4\", \"v5\", \"v6\", \"v7\", \"SK_B_e\", \"SK_P_e\"],\n",
    "    \"Baseline Flux\": [ -10, -10, -10, 10, 10, 10, 10, 0, 20, 0, 20, 0]\n",
    "}\n",
    "\n",
    "# Results after gene deletions\n",
    "results = {\n",
    "    \"Gene1 Deleted\": [-10, 0, -10, 0, 10, 10, 0, 10, 10, 10, 10, 10],\n",
    "    \"Gene5 Deleted\": [-10, -10, -10, 10, 10, 10, 10, 0, 20, 0, 20, 0],\n",
    "    \"Gene14 Deleted\": [-10, -10, -10, 10, 10, 10, 10, 0, 20, 0, 20, 0]\n",
    "}\n",
    "\n",
    "# Create a df for table\n",
    "df = pd.DataFrame(baseline)\n",
    "df[\"Gene1 Deleted\"] = results[\"Gene1 Deleted\"]\n",
    "df[\"Gene5 Deleted\"] = results[\"Gene5 Deleted\"]\n",
    "df[\"Gene14 Deleted\"] = results[\"Gene14 Deleted\"]\n",
    "\n",
    "# Displaying table\n",
    "df.style.set_caption(\"Comparison of FBA Results Before and After Gene Deletions\")\n"
   ]
  },
  {
   "cell_type": "markdown",
   "metadata": {},
   "source": [
    "Escher model"
   ]
  },
  {
   "cell_type": "markdown",
   "metadata": {},
   "source": [
    "Defining colours"
   ]
  },
  {
   "cell_type": "code",
   "execution_count": null,
   "metadata": {},
   "outputs": [],
   "source": [
    "# Re-defining the colour scale to enure same colours after VSC reload\n",
    "standard_scale = [\n",
    "    {'type': 'min', 'color': '#0000FF', 'size': 10},  # low flux (blue)\n",
    "    {'type': 'median', 'color': '#FFFF00', 'size': 15},  # medium flux (yellow)\n",
    "    {'type': 'max', 'color': '#FF0000', 'size': 25}   # high flux (red)\n",
    "]\n"
   ]
  },
  {
   "cell_type": "markdown",
   "metadata": {},
   "source": [
    "Building baseline map for comparison"
   ]
  },
  {
   "cell_type": "code",
   "execution_count": null,
   "metadata": {},
   "outputs": [],
   "source": [
    "# Reimporting libraries for reproducibility\n",
    "import escher\n",
    "from escher import Builder\n",
    "\n",
    "# Loading the map for the baseline model\n",
    "baseline_map = Builder(\n",
    "    model=model,              # The optimised model\n",
    "    map_json=map_path,        # The custom Escher map\n",
    "    reaction_data=solution.fluxes  # The Baseline FBA results\n",
    ")\n",
    "\n",
    "# Applying the color scale\n",
    "baseline_map.reaction_scale = standard_scale\n",
    "baseline_map.reaction_scale_preset = 'GaBuRd'  # Ensuring blue to red\n",
    "\n",
    "# Saving Map\n",
    "baseline_map.save_html(r\"\\\\mfs03\\user07\\HLSRICE\\Documents\\Computational\\EXAM2\\PART_1\\baseline_map.html\")\n"
   ]
  },
  {
   "cell_type": "markdown",
   "metadata": {},
   "source": [
    "GENE1"
   ]
  },
  {
   "cell_type": "markdown",
   "metadata": {},
   "source": [
    "Gene1 deletion map"
   ]
  },
  {
   "cell_type": "code",
   "execution_count": null,
   "metadata": {},
   "outputs": [],
   "source": [
    "# gene1 map\n",
    "gene1_map = Builder(\n",
    "    model=model,              # The model with gene1 deleted\n",
    "    map_json=map_path,        # custom Escher map\n",
    "    reaction_data=solution_gene1.fluxes  # Gene1 deleted FBA results\n",
    ")\n",
    "\n",
    "# Apply the colour scale\n",
    "gene1_map.reaction_scale = standard_scale\n",
    "gene1_map.reaction_scale_preset = 'GaBuRd'\n",
    "\n",
    "# Save the Gene1 map\n",
    "gene1_map.save_html(r\"\\\\mfs03\\user07\\HLSRICE\\Documents\\Computational\\EXAM2\\PART_1\\gene1_deleted_map.html\")\n"
   ]
  },
  {
   "cell_type": "markdown",
   "metadata": {},
   "source": [
    "GENE5"
   ]
  },
  {
   "cell_type": "markdown",
   "metadata": {},
   "source": [
    "Gene5 deletion map"
   ]
  },
  {
   "cell_type": "code",
   "execution_count": null,
   "metadata": {},
   "outputs": [],
   "source": [
    "# gene5 map\n",
    "gene5_map = Builder(\n",
    "    model=model,              # The model with gene5 deleted\n",
    "    map_json=map_path,        # custom Escher map\n",
    "    reaction_data=solution_gene5.fluxes  # Gene5 deleted FBA results\n",
    ")\n",
    "\n",
    "# Apply the colour scale\n",
    "gene5_map.reaction_scale = standard_scale\n",
    "gene5_map.reaction_scale_preset = 'GaBuRd'\n",
    "\n",
    "# Save the Gene5 map\n",
    "gene5_map.save_html(r\"\\\\mfs03\\user07\\HLSRICE\\Documents\\Computational\\EXAM2\\PART_1\\gene5_deleted_map.html\")\n"
   ]
  },
  {
   "cell_type": "markdown",
   "metadata": {},
   "source": [
    "GENE14"
   ]
  },
  {
   "cell_type": "markdown",
   "metadata": {},
   "source": [
    "Gene14 deletion map"
   ]
  },
  {
   "cell_type": "code",
   "execution_count": null,
   "metadata": {},
   "outputs": [],
   "source": [
    "# gene14 map\n",
    "gene14_map = Builder(\n",
    "    model=model,              # The model with gene14 deleted\n",
    "    map_json=map_path,        # Your custom Escher map\n",
    "    reaction_data=solution_gene14.fluxes  # Gene14 deleted FBA results\n",
    ")\n",
    "\n",
    "# Apply the colour scale\n",
    "gene14_map.reaction_scale = standard_scale\n",
    "gene14_map.reaction_scale_preset = 'GaBuRd'\n",
    "\n",
    "# Save the Gene14 map\n",
    "gene14_map.save_html(r\"\\\\mfs03\\user07\\HLSRICE\\Documents\\Computational\\EXAM2\\PART_1\\gene14_deleted_map.html\")\n"
   ]
  },
  {
   "cell_type": "markdown",
   "metadata": {},
   "source": [
    "Q5"
   ]
  },
  {
   "cell_type": "code",
   "execution_count": null,
   "metadata": {
    "vscode": {
     "languageId": "plaintext"
    }
   },
   "outputs": [],
   "source": [
    "Systematic deletion of each gene to test if any increase v7 flux while keeping v6 flux as optimal"
   ]
  },
  {
   "cell_type": "code",
   "execution_count": null,
   "metadata": {},
   "outputs": [
    {
     "data": {
      "text/html": [
       "<div>\n",
       "<style scoped>\n",
       "    .dataframe tbody tr th:only-of-type {\n",
       "        vertical-align: middle;\n",
       "    }\n",
       "\n",
       "    .dataframe tbody tr th {\n",
       "        vertical-align: top;\n",
       "    }\n",
       "\n",
       "    .dataframe thead th {\n",
       "        text-align: right;\n",
       "    }\n",
       "</style>\n",
       "<table border=\"1\" class=\"dataframe\">\n",
       "  <thead>\n",
       "    <tr style=\"text-align: right;\">\n",
       "      <th></th>\n",
       "      <th>Flux of P_e (v7)</th>\n",
       "      <th>Flux of B (v6)</th>\n",
       "    </tr>\n",
       "    <tr>\n",
       "      <th>Gene Deleted</th>\n",
       "      <th></th>\n",
       "      <th></th>\n",
       "    </tr>\n",
       "  </thead>\n",
       "  <tbody>\n",
       "    <tr>\n",
       "      <th>gene1</th>\n",
       "      <td>10.0</td>\n",
       "      <td>10.0</td>\n",
       "    </tr>\n",
       "    <tr>\n",
       "      <th>gene2</th>\n",
       "      <td>0.0</td>\n",
       "      <td>20.0</td>\n",
       "    </tr>\n",
       "    <tr>\n",
       "      <th>gene3</th>\n",
       "      <td>0.0</td>\n",
       "      <td>20.0</td>\n",
       "    </tr>\n",
       "    <tr>\n",
       "      <th>gene4</th>\n",
       "      <td>0.0</td>\n",
       "      <td>20.0</td>\n",
       "    </tr>\n",
       "    <tr>\n",
       "      <th>gene5</th>\n",
       "      <td>0.0</td>\n",
       "      <td>20.0</td>\n",
       "    </tr>\n",
       "    <tr>\n",
       "      <th>gene6</th>\n",
       "      <td>0.0</td>\n",
       "      <td>20.0</td>\n",
       "    </tr>\n",
       "    <tr>\n",
       "      <th>gene7</th>\n",
       "      <td>10.0</td>\n",
       "      <td>10.0</td>\n",
       "    </tr>\n",
       "    <tr>\n",
       "      <th>gene8</th>\n",
       "      <td>0.0</td>\n",
       "      <td>20.0</td>\n",
       "    </tr>\n",
       "    <tr>\n",
       "      <th>gene9</th>\n",
       "      <td>0.0</td>\n",
       "      <td>20.0</td>\n",
       "    </tr>\n",
       "    <tr>\n",
       "      <th>gene10</th>\n",
       "      <td>0.0</td>\n",
       "      <td>20.0</td>\n",
       "    </tr>\n",
       "    <tr>\n",
       "      <th>gene11</th>\n",
       "      <td>0.0</td>\n",
       "      <td>0.0</td>\n",
       "    </tr>\n",
       "    <tr>\n",
       "      <th>gene12</th>\n",
       "      <td>0.0</td>\n",
       "      <td>0.0</td>\n",
       "    </tr>\n",
       "    <tr>\n",
       "      <th>gene13</th>\n",
       "      <td>0.0</td>\n",
       "      <td>0.0</td>\n",
       "    </tr>\n",
       "    <tr>\n",
       "      <th>gene14</th>\n",
       "      <td>0.0</td>\n",
       "      <td>20.0</td>\n",
       "    </tr>\n",
       "  </tbody>\n",
       "</table>\n",
       "</div>"
      ],
      "text/plain": [
       "              Flux of P_e (v7)  Flux of B (v6)\n",
       "Gene Deleted                                  \n",
       "gene1                     10.0            10.0\n",
       "gene2                      0.0            20.0\n",
       "gene3                      0.0            20.0\n",
       "gene4                      0.0            20.0\n",
       "gene5                      0.0            20.0\n",
       "gene6                      0.0            20.0\n",
       "gene7                     10.0            10.0\n",
       "gene8                      0.0            20.0\n",
       "gene9                      0.0            20.0\n",
       "gene10                     0.0            20.0\n",
       "gene11                     0.0             0.0\n",
       "gene12                     0.0             0.0\n",
       "gene13                     0.0             0.0\n",
       "gene14                     0.0            20.0"
      ]
     },
     "execution_count": 31,
     "metadata": {},
     "output_type": "execute_result"
    }
   ],
   "source": [
    "import cobra\n",
    "from cobra.io import read_sbml_model\n",
    "\n",
    "# Loading the model \n",
    "model_path = r\"\\\\mfs03\\user07\\HLSRICE\\Documents\\Computational\\EXAM2\\PART_1\\assignment_model_updated.xml\"\n",
    "\n",
    "def reload_model():\n",
    "    model = read_sbml_model(model_path)\n",
    "    return model\n",
    "\n",
    "# Function to test gene deletions and track v7 (P_e production)\n",
    "def test_gene_deletion(gene_id):\n",
    "    model = reload_model()\n",
    "    model.genes.get_by_id(gene_id).knock_out()\n",
    "    solution = model.optimize()\n",
    "    return solution.fluxes.get(\"v7\"), solution.fluxes.get(\"v6\")\n",
    "\n",
    "# List of all genes\n",
    "genes_to_test = [\"gene1\", \"gene2\", \"gene3\", \"gene4\", \"gene5\", \"gene6\", \"gene7\", \"gene8\", \"gene9\", \"gene10\", \"gene11\", \"gene12\", \"gene13\", \"gene14\"]\n",
    "\n",
    "# Dictionary to store the resultss\n",
    "gene_deletion_results = {}\n",
    "\n",
    "# Testing each gene deletion\n",
    "for gene in genes_to_test:\n",
    "    v7_flux, v6_flux = test_gene_deletion(gene)\n",
    "    gene_deletion_results[gene] = {\"v7_flux\": v7_flux, \"v6_flux\": v6_flux}\n",
    "\n",
    "# Displaying the results\n",
    "import pandas as pd\n",
    "results_df = pd.DataFrame.from_dict(gene_deletion_results, orient=\"index\")\n",
    "results_df.index.name = \"Gene Deleted\"\n",
    "results_df.columns = [\"Flux of P_e (v7)\", \"Flux of B (v6)\"]\n",
    "results_df\n"
   ]
  }
 ],
 "metadata": {
  "kernelspec": {
   "display_name": "Python 3",
   "language": "python",
   "name": "python3"
  },
  "language_info": {
   "codemirror_mode": {
    "name": "ipython",
    "version": 3
   },
   "file_extension": ".py",
   "mimetype": "text/x-python",
   "name": "python",
   "nbconvert_exporter": "python",
   "pygments_lexer": "ipython3",
   "version": "3.12.6"
  }
 },
 "nbformat": 4,
 "nbformat_minor": 2
}
